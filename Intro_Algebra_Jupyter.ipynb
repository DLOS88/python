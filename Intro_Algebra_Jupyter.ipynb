{
  "nbformat": 4,
  "nbformat_minor": 0,
  "metadata": {
    "colab": {
      "name": "Untitled0.ipynb",
      "provenance": [],
      "authorship_tag": "ABX9TyNkQTj4gKXq4cqzfZtZfSwz",
      "include_colab_link": true
    },
    "kernelspec": {
      "name": "python3",
      "display_name": "Python 3"
    }
  },
  "cells": [
    {
      "cell_type": "markdown",
      "metadata": {
        "id": "view-in-github",
        "colab_type": "text"
      },
      "source": [
        "<a href=\"https://colab.research.google.com/github/derxon88/python/blob/master/Intro_Algebra_Jupyter.ipynb\" target=\"_parent\"><img src=\"https://colab.research.google.com/assets/colab-badge.svg\" alt=\"Open In Colab\"/></a>"
      ]
    },
    {
      "cell_type": "code",
      "metadata": {
        "id": "f0uy419aKliY",
        "colab_type": "code",
        "colab": {}
      },
      "source": [
        "codigo=20122007002"
      ],
      "execution_count": 0,
      "outputs": []
    },
    {
      "cell_type": "markdown",
      "metadata": {
        "id": "vasjXEv9ML2y",
        "colab_type": "text"
      },
      "source": [
        "# Punto 1"
      ]
    },
    {
      "cell_type": "code",
      "metadata": {
        "id": "hr0TsSs8KbET",
        "colab_type": "code",
        "colab": {}
      },
      "source": [
        "w=(8,11,12,9,10,10)"
      ],
      "execution_count": 0,
      "outputs": []
    },
    {
      "cell_type": "markdown",
      "metadata": {
        "id": "4GyLKH-fMSTk",
        "colab_type": "text"
      },
      "source": [
        "# Punto 2"
      ]
    },
    {
      "cell_type": "code",
      "metadata": {
        "id": "bq_BeUTuKn2R",
        "colab_type": "code",
        "colab": {
          "base_uri": "https://localhost:8080/",
          "height": 282
        },
        "outputId": "386997d1-2444-4614-bf3e-2a66c7f6966c"
      },
      "source": [
        "import matplotlib.pyplot as plt\n",
        "fig,ax=plt.subplots()\n",
        "puntos=[[0,1,2,3,4,5], \n",
        "        w]  \n",
        "ax.scatter(*puntos,s=100,color='black') "
      ],
      "execution_count": 3,
      "outputs": [
        {
          "output_type": "execute_result",
          "data": {
            "text/plain": [
              "<matplotlib.collections.PathCollection at 0x7f05e6fe9128>"
            ]
          },
          "metadata": {
            "tags": []
          },
          "execution_count": 3
        },
        {
          "output_type": "display_data",
          "data": {
            "image/png": "[encoded data removed]",
            "text/plain": [
              "<Figure size 432x288 with 1 Axes>"
            ]
          },
          "metadata": {
            "tags": [],
            "needs_background": "light"
          }
        }
      ]
    },
    {
      "cell_type": "markdown",
      "metadata": {
        "id": "Uwm3j9lBMiU6",
        "colab_type": "text"
      },
      "source": [
        "#Punto 3"
      ]
    },
    {
      "cell_type": "code",
      "metadata": {
        "id": "JSJ7Yq5IL_4D",
        "colab_type": "code",
        "colab": {
          "base_uri": "https://localhost:8080/",
          "height": 34
        },
        "outputId": "cfa26d40-6dbf-4f9e-d002-76af8c8302fa"
      },
      "source": [
        "def promedio_1(numeros):\n",
        "    acumulador = 0\n",
        "    for numero in numeros:\n",
        "        acumulador = acumulador + numero\n",
        "    return acumulador/len(numeros)\n",
        "prom=promedio_1(w)\n",
        "print('El promedio es %1.2f'%prom)"
      ],
      "execution_count": 4,
      "outputs": [
        {
          "output_type": "stream",
          "text": [
            "El promedio es 10.00\n"
          ],
          "name": "stdout"
        }
      ]
    },
    {
      "cell_type": "markdown",
      "metadata": {
        "id": "HEo8ru7qP5wz",
        "colab_type": "text"
      },
      "source": [
        "#Punto 4"
      ]
    },
    {
      "cell_type": "code",
      "metadata": {
        "id": "6hw9cjEBM4UY",
        "colab_type": "code",
        "colab": {
          "base_uri": "https://localhost:8080/",
          "height": 282
        },
        "outputId": "b2b7f368-5496-40bb-c77b-2b3e7dd6395b"
      },
      "source": [
        "fig,ax=plt.subplots()\n",
        "puntos=[[0,1,2,3,4,5], \n",
        "        w]  \n",
        "ax.scatter(*puntos,s=100,color='black') \n",
        "# Grafica líneas\n",
        "lineas=[(0,len(w)),(prom,prom),'black', #(x1,x4),(y1,y4),color\n",
        "       ]\n",
        "ax.plot(*lineas)"
      ],
      "execution_count": 5,
      "outputs": [
        {
          "output_type": "execute_result",
          "data": {
            "text/plain": [
              "[<matplotlib.lines.Line2D at 0x7f05e42d45c0>]"
            ]
          },
          "metadata": {
            "tags": []
          },
          "execution_count": 5
        },
        {
          "output_type": "display_data",
          "data": {
            "image/png": "[encoded data removed]",
            "text/plain": [
              "<Figure size 432x288 with 1 Axes>"
            ]
          },
          "metadata": {
            "tags": [],
            "needs_background": "light"
          }
        }
      ]
    },
    {
      "cell_type": "markdown",
      "metadata": {
        "id": "FBdmFt5cQbvq",
        "colab_type": "text"
      },
      "source": [
        "#Punto 5"
      ]
    },
    {
      "cell_type": "code",
      "metadata": {
        "id": "aGeCjP0ZQeJJ",
        "colab_type": "code",
        "colab": {}
      },
      "source": [
        "def varianza(numeros,promd):\n",
        "    acumulador = 0\n",
        "    for numero in numeros:\n",
        "        acumulador = acumulador + (numero-promd)**2\n",
        "        print(acumulador)\n",
        "    acumulador = acumulador / len(numeros)\n",
        "    return acumulador"
      ],
      "execution_count": 0,
      "outputs": []
    },
    {
      "cell_type": "markdown",
      "metadata": {
        "id": "g_rWUARmTl9p",
        "colab_type": "text"
      },
      "source": [
        "#Punto 6"
      ]
    },
    {
      "cell_type": "code",
      "metadata": {
        "id": "e7dkRxeVTmWj",
        "colab_type": "code",
        "colab": {
          "base_uri": "https://localhost:8080/",
          "height": 136
        },
        "outputId": "ee53e0e6-4592-4a38-d057-db6ee6660cc5"
      },
      "source": [
        "\n",
        "var=varianza(w,prom)\n",
        "print('La varianza es %1.2f'%var)"
      ],
      "execution_count": 7,
      "outputs": [
        {
          "output_type": "stream",
          "text": [
            "4.0\n",
            "5.0\n",
            "9.0\n",
            "10.0\n",
            "10.0\n",
            "10.0\n",
            "La varianza es 1.67\n"
          ],
          "name": "stdout"
        }
      ]
    },
    {
      "cell_type": "markdown",
      "metadata": {
        "id": "lNwLLfSqTyRj",
        "colab_type": "text"
      },
      "source": [
        "#Punto 7"
      ]
    },
    {
      "cell_type": "code",
      "metadata": {
        "id": "5-UzK51pT0ni",
        "colab_type": "code",
        "colab": {
          "base_uri": "https://localhost:8080/",
          "height": 316
        },
        "outputId": "6fe052d0-e22f-44c8-f808-22167eda291f"
      },
      "source": [
        "fig,ax=plt.subplots()\n",
        "puntos=[[0,1,2,3,4,5], \n",
        "        w]  \n",
        "ax.scatter(*puntos,s=100,color='black') \n",
        "# Grafica líneas \n",
        "lineas=[(0,len(w)),(prom,prom),'black', #(x1,x4),(y1,y4),color\n",
        "        (0,len(w)),(prom+var,prom+var),'red', #(x2,x4),(y1,y4),color\n",
        "        (0,len(w)),(prom-var,prom-var),'red', #(x2,x4),(y1,y4),color\n",
        "       ]\n",
        "ax.plot(*lineas)"
      ],
      "execution_count": 8,
      "outputs": [
        {
          "output_type": "execute_result",
          "data": {
            "text/plain": [
              "[<matplotlib.lines.Line2D at 0x7f05e4245f98>,\n",
              " <matplotlib.lines.Line2D at 0x7f05e42540b8>,\n",
              " <matplotlib.lines.Line2D at 0x7f05e4254198>]"
            ]
          },
          "metadata": {
            "tags": []
          },
          "execution_count": 8
        },
        {
          "output_type": "display_data",
          "data": {
            "image/png": "[encoded data removed]",
            "text/plain": [
              "<Figure size 432x288 with 1 Axes>"
            ]
          },
          "metadata": {
            "tags": [],
            "needs_background": "light"
          }
        }
      ]
    },
    {
      "cell_type": "markdown",
      "metadata": {
        "id": "ypeKghgjWSE9",
        "colab_type": "text"
      },
      "source": [
        "#Punto 8"
      ]
    },
    {
      "cell_type": "code",
      "metadata": {
        "id": "sVcaiYT1WVvU",
        "colab_type": "code",
        "colab": {}
      },
      "source": [
        "i_p='''Para mi el promedio es el valor medio de un conjunto de datos'''\n",
        "i_v='''Para mi la varianza es la diferencia media entre el conjunto de datos y el valor medio'''"
      ],
      "execution_count": 0,
      "outputs": []
    }
  ]
}